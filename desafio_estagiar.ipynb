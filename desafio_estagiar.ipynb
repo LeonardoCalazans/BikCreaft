{
  "nbformat": 4,
  "nbformat_minor": 0,
  "metadata": {
    "colab": {
      "name": "desafio_estagiar.ipynb",
      "provenance": [],
      "include_colab_link": true
    },
    "kernelspec": {
      "name": "python3",
      "display_name": "Python 3"
    },
    "language_info": {
      "name": "python"
    }
  },
  "cells": [
    {
      "cell_type": "markdown",
      "metadata": {
        "id": "view-in-github",
        "colab_type": "text"
      },
      "source": [
        "<a href=\"https://colab.research.google.com/github/LeonardoCalazans/BikCreaft/blob/main/desafio_estagiar.ipynb\" target=\"_parent\"><img src=\"https://colab.research.google.com/assets/colab-badge.svg\" alt=\"Open In Colab\"/></a>"
      ]
    },
    {
      "cell_type": "markdown",
      "metadata": {
        "id": "f3mKr6dsiSds"
      },
      "source": [
        "# Vamos explorar e processar dados com Python!\n",
        "\n",
        "Para exercitar nossas capacidades de EDA (Exploratory Data Analisys), vamos utilizar uma das linguagens mais consagradas na área de dados: Python! Para apoiar nosso trabalho, também poderemos utilizar algumas ferramentas poderosas escritas em linguagem python que são muito eficientes e práticas para esse propósito, são elas: Pandas, Numpy e pyplot.\n",
        "\n",
        "O material a ser explorado é talvez o banco de dados mais conhecido que pode ser encontrado na literatura de reconhecimento de padrões. O artigo de Fisher é um clássico na área e é referenciado com frequência até hoje.  O conjunto de dados contém características de 3 classes de plantas tipo íris:  Iris Setosa, Iris Versicolour, Iris Virginica. Essas plantas podem ser identificadas a partir de combinação nas medidas de suas pétalas e sépalas.\n",
        "\n",
        "O objetivo deste desafio é verificar sua capacidade de identificar informações básicas em uma tabela de dados como: tipo de colunas, quantidades de registros, etc. Manipular e processar esses dados e resgatar informações descritivas e visuais dos dados que possam revelar o seu comportamento.\n",
        "\n",
        "\n",
        "Agora vamos codar!\n",
        "\n"
      ]
    },
    {
      "cell_type": "markdown",
      "metadata": {
        "id": "4JMvj89hZtU3"
      },
      "source": [
        "# Importando bibliotecas no python\n",
        "  \n",
        "1.  Importe as bibliotecas numpy, pandas e pyplot\n",
        "\n",
        "https://pandas.pydata.org/pandas-docs/stable/reference/\n",
        "\n",
        "https://numpy.org/\n",
        "\n",
        "https://matplotlib.org/stable/api/_as_gen/matplotlib.pyplot.html\n",
        "\n",
        "Um pouco mais sobre o tema: https://cadernodelaboratorio.com.br/import-em-python/"
      ]
    },
    {
      "cell_type": "code",
      "metadata": {
        "id": "J7plPxoaZqeF"
      },
      "source": [
        ""
      ],
      "execution_count": null,
      "outputs": []
    },
    {
      "cell_type": "markdown",
      "metadata": {
        "id": "mO89j2tWZsdN"
      },
      "source": [
        "# Importando os dados como um dataframe Pandas\n",
        " \n",
        " Use a função 'read_csv' conforme documentação: https://pandas.pydata.org/pandas-docs/stable/reference/api/pandas.read_csv.html para importar o arquivo do link: https://archive.ics.uci.edu/ml/machine-learning-databases/iris/iris.data como um dataframe Pandas. Utilize como nome das colunas a lista:\n",
        "columns = ['sepal_length','sepal_width','petal_length','petal_width','class']\n"
      ]
    },
    {
      "cell_type": "code",
      "metadata": {
        "id": "xnbqtfUscpCm"
      },
      "source": [
        ""
      ],
      "execution_count": null,
      "outputs": []
    },
    {
      "cell_type": "markdown",
      "metadata": {
        "id": "L-GaXy90dOpO"
      },
      "source": [
        "# Visualize informações sobre os dados (colunas, número de linhas, e tipos de dados das colunas). Você pode utilizar a biblioteca Pandas, Numpy ou outros métodos de sua preferência."
      ]
    },
    {
      "cell_type": "code",
      "metadata": {
        "id": "3_fFA_z_d9Ds"
      },
      "source": [
        ""
      ],
      "execution_count": null,
      "outputs": []
    },
    {
      "cell_type": "markdown",
      "metadata": {
        "id": "NwwhoWY-ex7d"
      },
      "source": [
        "# Visualize dados descritivos das colunas numéricas da tabela (valor mínimo, valor máximo, média, desvio padrão). Você pode utilizar a biblioteca Pandas, Numpy ou outros métodos de sua preferência."
      ]
    },
    {
      "cell_type": "code",
      "metadata": {
        "id": "Eo1rle-vfJnG"
      },
      "source": [
        ""
      ],
      "execution_count": null,
      "outputs": []
    },
    {
      "cell_type": "markdown",
      "metadata": {
        "id": "gxuA8bK6gZRq"
      },
      "source": [
        "# Crie uma lista python contendo os valores únicos da coluna 'class'. Você pode utilizar a biblioteca Pandas, Numpy ou outros métodos de sua preferência."
      ]
    },
    {
      "cell_type": "code",
      "metadata": {
        "id": "WxfP9cOogmf_"
      },
      "source": [
        ""
      ],
      "execution_count": null,
      "outputs": []
    },
    {
      "cell_type": "markdown",
      "metadata": {
        "id": "5w681RnEhAS2"
      },
      "source": [
        "# Crie uma função python 'encode_class' que substitua os valores únicos da coluna class encontrados no passo anterior por uma sequência numérica começando pelo número 0. Ex: Iris-setosa -> 0, Iris-virginica -> 1, etc.."
      ]
    },
    {
      "cell_type": "code",
      "metadata": {
        "id": "6FFs5YccuykD"
      },
      "source": [
        ""
      ],
      "execution_count": null,
      "outputs": []
    },
    {
      "cell_type": "markdown",
      "metadata": {
        "id": "k8u3Hb9Lr0D5"
      },
      "source": [
        "# Crie um dataframe auxiliar que contenha apenas os registros com classes iguais a: 'Iris-versicolor', 'Iris-virginica'. Utilize a função scatter da biblioteca matplotlib.pyplot para cria um gráfico que relacione as variáveis das colunas 'sepal_length' e 'petal_length' do dataframe auxiliar criado anteriormente. Você arriscaria dizer oque pode ser observado nesta relação? Inclua um comentário no código com suas observações."
      ]
    },
    {
      "cell_type": "code",
      "metadata": {
        "id": "3XyG6ibYzHXO"
      },
      "source": [
        ""
      ],
      "execution_count": null,
      "outputs": []
    },
    {
      "cell_type": "markdown",
      "metadata": {
        "id": "TJqtr4IJsZ7K"
      },
      "source": [
        "# Utilize a função scatter da biblioteca matplotlib.pyplot para cria um gráfico que relacione as variáveis das colunas 'sepal_length', 'petal_length' e 'class'. Dica: inclua a coluna class como uma variação de cores dos pontos do gráfico. Você arriscaria dizer oque pode ser observado nesta relação? Inclua um comentário no código com suas observações."
      ]
    },
    {
      "cell_type": "code",
      "metadata": {
        "id": "W9cZYq70l5Cd"
      },
      "source": [
        ""
      ],
      "execution_count": null,
      "outputs": []
    }
  ]
}